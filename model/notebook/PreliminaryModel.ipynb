{
  "cells": [
    {
      "cell_type": "code",
      "execution_count": 29,
      "metadata": {
        "id": "qi65anxzFufC"
      },
      "outputs": [],
      "source": [
        "import tensorflow as tf\n",
        "from sklearn.model_selection import train_test_split\n",
        "from sklearn.preprocessing import StandardScaler, OneHotEncoder, OrdinalEncoder\n",
        "from sklearn.compose import ColumnTransformer\n",
        "from sklearn.pipeline import Pipeline\n",
        "import pandas as pd\n",
        "import numpy as np"
      ]
    },
    {
      "cell_type": "code",
      "execution_count": 30,
      "metadata": {
        "colab": {
          "base_uri": "https://localhost:8080/"
        },
        "id": "rd3cOypFj9Rr",
        "outputId": "29e77ed5-8e47-4541-9972-1d64bc5f0a2b"
      },
      "outputs": [
        {
          "name": "stdout",
          "output_type": "stream",
          "text": [
            "2.13.1\n",
            "1.24.3\n",
            "3.8.2\n"
          ]
        }
      ],
      "source": [
        "print(tf.__version__)\n",
        "print(np.__version__)\n",
        "import platform\n",
        "print(platform.python_version())\n"
      ]
    },
    {
      "cell_type": "code",
      "execution_count": 31,
      "metadata": {
        "id": "1B3QdcSqIq_x"
      },
      "outputs": [],
      "source": [
        "# Load your data\n",
        "df = pd.read_csv('model/saved-files/synthetic_homework_data.csv')\n",
        "\n",
        "# Define preprocessor\n",
        "preprocessor = ColumnTransformer(\n",
        "    transformers=[\n",
        "        ('num', StandardScaler(), ['Problem Set']),\n",
        "        ('cat', OneHotEncoder(), ['Subject']),\n",
        "        ('ord', OrdinalEncoder(), ['Priority'])\n",
        "    ])\n"
      ]
    },
    {
      "cell_type": "code",
      "execution_count": 32,
      "metadata": {
        "id": "gDEsiuMTJ470"
      },
      "outputs": [],
      "source": [
        "# Splitting the data\n",
        "X = df.drop('Time Required to Finish', axis=1)\n",
        "y = df['Time Required to Finish']\n",
        "X_train, X_test, y_train, y_test = train_test_split(X, y, test_size=0.2, random_state=42)\n",
        "\n",
        "# Preprocess the data\n",
        "X_train_transformed = preprocessor.fit_transform(X_train)\n",
        "X_test_transformed = preprocessor.transform(X_test)"
      ]
    },
    {
      "cell_type": "code",
      "execution_count": 33,
      "metadata": {
        "colab": {
          "base_uri": "https://localhost:8080/"
        },
        "id": "xypIKG3SyycP",
        "outputId": "bad5a61b-2126-4aac-f65f-76676d83519a"
      },
      "outputs": [
        {
          "data": {
            "text/plain": "10"
          },
          "execution_count": 33,
          "metadata": {},
          "output_type": "execute_result"
        }
      ],
      "source": [
        "X_train_transformed.shape[1]"
      ]
    },
    {
      "cell_type": "code",
      "execution_count": 34,
      "metadata": {
        "id": "x2zRopsUJ6-h"
      },
      "outputs": [],
      "source": [
        "# Neural Network Model\n",
        "model = tf.keras.models.Sequential([\n",
        "    tf.keras.layers.Dense(64, activation='relu', input_shape=[X_train_transformed.shape[1]]),\n",
        "    tf.keras.layers.Dense(32, activation='relu'),\n",
        "    tf.keras.layers.Dense(1)\n",
        "])\n",
        "\n",
        "model.compile(optimizer='adam', loss='mean_squared_error')"
      ]
    },
    {
      "cell_type": "code",
      "execution_count": 35,
      "metadata": {
        "colab": {
          "base_uri": "https://localhost:8080/"
        },
        "id": "ohXwry6vJ9XH",
        "outputId": "2a9c5426-5541-4dc1-bf25-e09d8387af56"
      },
      "outputs": [
        {
          "name": "stdout",
          "output_type": "stream",
          "text": [
            "Epoch 1/100\n"
          ]
        },
        {
          "name": "stderr",
          "output_type": "stream",
          "text": [
            "2023-11-30 15:17:38.690520: I tensorflow/core/grappler/optimizers/custom_graph_optimizer_registry.cc:114] Plugin optimizer for device_type GPU is enabled.\n",
            "2023-11-30 15:17:38.718900: E tensorflow/core/grappler/optimizers/meta_optimizer.cc:954] model_pruner failed: INVALID_ARGUMENT: Graph does not contain terminal node Adam/AssignAddVariableOp.\n"
          ]
        },
        {
          "name": "stdout",
          "output_type": "stream",
          "text": [
            "40/40 [==============================] - 1s 21ms/step - loss: 119363.0391 - val_loss: 125431.7656\n",
            "Epoch 2/100\n",
            " 1/40 [..............................] - ETA: 0s - loss: 133380.3438"
          ]
        },
        {
          "name": "stderr",
          "output_type": "stream",
          "text": [
            "2023-11-30 15:17:39.599111: I tensorflow/core/grappler/optimizers/custom_graph_optimizer_registry.cc:114] Plugin optimizer for device_type GPU is enabled.\n"
          ]
        },
        {
          "name": "stdout",
          "output_type": "stream",
          "text": [
            "40/40 [==============================] - 1s 18ms/step - loss: 116236.2734 - val_loss: 120570.2891\n",
            "Epoch 3/100\n",
            "40/40 [==============================] - 1s 18ms/step - loss: 108743.6016 - val_loss: 109334.8984\n",
            "Epoch 4/100\n",
            "40/40 [==============================] - 1s 19ms/step - loss: 94242.5781 - val_loss: 90194.0859\n",
            "Epoch 5/100\n",
            "40/40 [==============================] - 1s 18ms/step - loss: 73372.2031 - val_loss: 66483.7344\n",
            "Epoch 6/100\n",
            "40/40 [==============================] - 1s 17ms/step - loss: 51136.8320 - val_loss: 44842.4297\n",
            "Epoch 7/100\n",
            "40/40 [==============================] - 1s 19ms/step - loss: 34062.5352 - val_loss: 30378.1504\n",
            "Epoch 8/100\n",
            "40/40 [==============================] - 1s 18ms/step - loss: 24479.7305 - val_loss: 23233.3379\n",
            "Epoch 9/100\n",
            "40/40 [==============================] - 1s 18ms/step - loss: 20125.2148 - val_loss: 19788.7930\n",
            "Epoch 10/100\n",
            "40/40 [==============================] - 1s 18ms/step - loss: 17447.1406 - val_loss: 17350.7969\n",
            "Epoch 11/100\n",
            "40/40 [==============================] - 1s 18ms/step - loss: 15171.9316 - val_loss: 15013.5215\n",
            "Epoch 12/100\n",
            "40/40 [==============================] - 1s 20ms/step - loss: 12984.0010 - val_loss: 13010.8984\n",
            "Epoch 13/100\n",
            "40/40 [==============================] - 1s 17ms/step - loss: 11068.8926 - val_loss: 11046.2539\n",
            "Epoch 14/100\n",
            "40/40 [==============================] - 1s 18ms/step - loss: 9344.0889 - val_loss: 9406.2715\n",
            "Epoch 15/100\n",
            "40/40 [==============================] - 1s 17ms/step - loss: 7877.2983 - val_loss: 8024.1484\n",
            "Epoch 16/100\n",
            "40/40 [==============================] - 1s 17ms/step - loss: 6692.1064 - val_loss: 6907.7197\n",
            "Epoch 17/100\n",
            "40/40 [==============================] - 1s 18ms/step - loss: 5782.6392 - val_loss: 6040.1592\n",
            "Epoch 18/100\n",
            "40/40 [==============================] - 1s 17ms/step - loss: 5101.6719 - val_loss: 5414.4507\n",
            "Epoch 19/100\n",
            "40/40 [==============================] - 1s 18ms/step - loss: 4607.9229 - val_loss: 4907.6704\n",
            "Epoch 20/100\n",
            "40/40 [==============================] - 1s 18ms/step - loss: 4266.6323 - val_loss: 4570.0386\n",
            "Epoch 21/100\n",
            "40/40 [==============================] - 1s 20ms/step - loss: 4055.8313 - val_loss: 4347.1587\n",
            "Epoch 22/100\n",
            "40/40 [==============================] - 1s 25ms/step - loss: 3879.5957 - val_loss: 4143.9092\n",
            "Epoch 23/100\n",
            "40/40 [==============================] - 1s 25ms/step - loss: 3782.7505 - val_loss: 4010.4351\n",
            "Epoch 24/100\n",
            "40/40 [==============================] - 1s 19ms/step - loss: 3711.4653 - val_loss: 4007.8306\n",
            "Epoch 25/100\n",
            "40/40 [==============================] - 1s 22ms/step - loss: 3681.5220 - val_loss: 3891.8022\n",
            "Epoch 26/100\n",
            "40/40 [==============================] - 1s 22ms/step - loss: 3638.3027 - val_loss: 3877.9355\n",
            "Epoch 27/100\n",
            "40/40 [==============================] - 1s 18ms/step - loss: 3621.1863 - val_loss: 3853.7917\n",
            "Epoch 28/100\n",
            "40/40 [==============================] - 1s 18ms/step - loss: 3602.9780 - val_loss: 3820.9570\n",
            "Epoch 29/100\n",
            "40/40 [==============================] - 1s 18ms/step - loss: 3600.3972 - val_loss: 3816.7273\n",
            "Epoch 30/100\n",
            "40/40 [==============================] - 1s 19ms/step - loss: 3587.4915 - val_loss: 3818.2153\n",
            "Epoch 31/100\n",
            "40/40 [==============================] - 1s 19ms/step - loss: 3576.7727 - val_loss: 3831.7612\n",
            "Epoch 32/100\n",
            "40/40 [==============================] - 1s 18ms/step - loss: 3596.1145 - val_loss: 3781.0273\n",
            "Epoch 33/100\n",
            "40/40 [==============================] - 1s 18ms/step - loss: 3581.1746 - val_loss: 3792.8496\n",
            "Epoch 34/100\n",
            "40/40 [==============================] - 1s 19ms/step - loss: 3576.6121 - val_loss: 3783.3508\n",
            "Epoch 35/100\n",
            "40/40 [==============================] - 1s 19ms/step - loss: 3574.7837 - val_loss: 3775.6509\n",
            "Epoch 36/100\n",
            "40/40 [==============================] - 1s 19ms/step - loss: 3568.7683 - val_loss: 3827.8254\n",
            "Epoch 37/100\n",
            "40/40 [==============================] - 1s 21ms/step - loss: 3562.5864 - val_loss: 3805.2090\n",
            "Epoch 38/100\n",
            "40/40 [==============================] - 1s 19ms/step - loss: 3576.6206 - val_loss: 3801.7859\n",
            "Epoch 39/100\n",
            "40/40 [==============================] - 1s 18ms/step - loss: 3561.2344 - val_loss: 3843.9851\n",
            "Epoch 40/100\n",
            "40/40 [==============================] - 1s 18ms/step - loss: 3575.4387 - val_loss: 3799.3184\n",
            "Epoch 41/100\n",
            "40/40 [==============================] - 1s 17ms/step - loss: 3567.0449 - val_loss: 3817.9028\n",
            "Epoch 42/100\n",
            "40/40 [==============================] - 1s 18ms/step - loss: 3572.2917 - val_loss: 3857.8672\n",
            "Epoch 43/100\n",
            "40/40 [==============================] - 1s 18ms/step - loss: 3558.8445 - val_loss: 3789.5911\n",
            "Epoch 44/100\n",
            "40/40 [==============================] - 1s 18ms/step - loss: 3560.0493 - val_loss: 3830.5789\n",
            "Epoch 45/100\n",
            "40/40 [==============================] - 1s 18ms/step - loss: 3570.3215 - val_loss: 3805.9590\n",
            "Epoch 46/100\n",
            "40/40 [==============================] - 1s 18ms/step - loss: 3566.6519 - val_loss: 3799.4741\n",
            "Epoch 47/100\n",
            "40/40 [==============================] - 1s 17ms/step - loss: 3585.3247 - val_loss: 3834.6973\n",
            "Epoch 48/100\n",
            "40/40 [==============================] - 1s 18ms/step - loss: 3574.2571 - val_loss: 3772.7036\n",
            "Epoch 49/100\n",
            "40/40 [==============================] - 1s 18ms/step - loss: 3562.0063 - val_loss: 3799.4895\n",
            "Epoch 50/100\n",
            "40/40 [==============================] - 1s 18ms/step - loss: 3567.7168 - val_loss: 3784.5161\n",
            "Epoch 51/100\n",
            "40/40 [==============================] - 1s 17ms/step - loss: 3558.3625 - val_loss: 3857.1321\n",
            "Epoch 52/100\n",
            "40/40 [==============================] - 1s 17ms/step - loss: 3577.0269 - val_loss: 3793.4290\n",
            "Epoch 53/100\n",
            "40/40 [==============================] - 1s 17ms/step - loss: 3582.7993 - val_loss: 3793.1968\n",
            "Epoch 54/100\n",
            "40/40 [==============================] - 1s 17ms/step - loss: 3579.2559 - val_loss: 3810.1899\n",
            "Epoch 55/100\n",
            "40/40 [==============================] - 1s 19ms/step - loss: 3568.1179 - val_loss: 3797.4792\n",
            "Epoch 56/100\n",
            "40/40 [==============================] - 1s 21ms/step - loss: 3575.1626 - val_loss: 3795.4312\n",
            "Epoch 57/100\n",
            "40/40 [==============================] - 1s 20ms/step - loss: 3608.7917 - val_loss: 3753.7070\n",
            "Epoch 58/100\n",
            "40/40 [==============================] - 1s 21ms/step - loss: 3581.6680 - val_loss: 3778.9258\n",
            "Epoch 59/100\n",
            "40/40 [==============================] - 1s 18ms/step - loss: 3567.3735 - val_loss: 3787.2583\n",
            "Epoch 60/100\n",
            "40/40 [==============================] - 1s 16ms/step - loss: 3575.1707 - val_loss: 3795.4094\n",
            "Epoch 61/100\n",
            "40/40 [==============================] - 1s 16ms/step - loss: 3579.7090 - val_loss: 3776.9839\n",
            "Epoch 62/100\n",
            "40/40 [==============================] - 1s 16ms/step - loss: 3576.4753 - val_loss: 3790.9902\n",
            "Epoch 63/100\n",
            "40/40 [==============================] - 1s 16ms/step - loss: 3617.5957 - val_loss: 3865.3809\n",
            "Epoch 64/100\n",
            "40/40 [==============================] - 1s 16ms/step - loss: 3588.0605 - val_loss: 3811.0469\n",
            "Epoch 65/100\n",
            "40/40 [==============================] - 1s 16ms/step - loss: 3600.9917 - val_loss: 3798.8586\n",
            "Epoch 66/100\n",
            "40/40 [==============================] - 1s 16ms/step - loss: 3609.5552 - val_loss: 3760.6782\n",
            "Epoch 67/100\n",
            "40/40 [==============================] - 1s 16ms/step - loss: 3579.7290 - val_loss: 3791.5249\n",
            "Epoch 68/100\n",
            "40/40 [==============================] - 1s 16ms/step - loss: 3592.2878 - val_loss: 3801.8013\n",
            "Epoch 69/100\n",
            "40/40 [==============================] - 1s 16ms/step - loss: 3593.5730 - val_loss: 3843.4700\n",
            "Epoch 70/100\n",
            "40/40 [==============================] - 1s 16ms/step - loss: 3577.9316 - val_loss: 3758.0925\n",
            "Epoch 71/100\n",
            "40/40 [==============================] - 1s 16ms/step - loss: 3608.1047 - val_loss: 3817.5435\n",
            "Epoch 72/100\n",
            "40/40 [==============================] - 1s 16ms/step - loss: 3601.2944 - val_loss: 3758.4290\n",
            "Epoch 73/100\n",
            "40/40 [==============================] - 1s 17ms/step - loss: 3593.3325 - val_loss: 3817.0630\n",
            "Epoch 74/100\n",
            "40/40 [==============================] - 1s 16ms/step - loss: 3586.6106 - val_loss: 3784.4465\n",
            "Epoch 75/100\n",
            "40/40 [==============================] - 1s 16ms/step - loss: 3604.2136 - val_loss: 3796.7156\n",
            "Epoch 76/100\n",
            "40/40 [==============================] - 1s 16ms/step - loss: 3582.6050 - val_loss: 3786.2163\n",
            "Epoch 77/100\n",
            "40/40 [==============================] - 1s 16ms/step - loss: 3619.7749 - val_loss: 3800.8000\n",
            "Epoch 78/100\n",
            "40/40 [==============================] - 1s 16ms/step - loss: 3594.3184 - val_loss: 3762.1785\n",
            "Epoch 79/100\n",
            "40/40 [==============================] - 1s 16ms/step - loss: 3592.9402 - val_loss: 3797.0996\n",
            "Epoch 80/100\n",
            "40/40 [==============================] - 1s 16ms/step - loss: 3601.7710 - val_loss: 3785.3113\n",
            "Epoch 81/100\n",
            "40/40 [==============================] - 1s 16ms/step - loss: 3614.6843 - val_loss: 3833.8157\n",
            "Epoch 82/100\n",
            "40/40 [==============================] - 1s 18ms/step - loss: 3587.3015 - val_loss: 3788.4609\n",
            "Epoch 83/100\n",
            "40/40 [==============================] - 1s 18ms/step - loss: 3634.3535 - val_loss: 3839.3638\n",
            "Epoch 84/100\n",
            "40/40 [==============================] - 1s 19ms/step - loss: 3609.2129 - val_loss: 3849.7156\n",
            "Epoch 85/100\n",
            "40/40 [==============================] - 1s 19ms/step - loss: 3622.9941 - val_loss: 3869.2603\n",
            "Epoch 86/100\n",
            "40/40 [==============================] - 1s 23ms/step - loss: 3618.7690 - val_loss: 3775.8894\n",
            "Epoch 87/100\n",
            "40/40 [==============================] - 1s 21ms/step - loss: 3613.5610 - val_loss: 3833.2957\n",
            "Epoch 88/100\n",
            "40/40 [==============================] - 1s 22ms/step - loss: 3642.2896 - val_loss: 3827.8569\n",
            "Epoch 89/100\n",
            "40/40 [==============================] - 1s 20ms/step - loss: 3589.1223 - val_loss: 3810.2598\n",
            "Epoch 90/100\n",
            "40/40 [==============================] - 1s 20ms/step - loss: 3613.9141 - val_loss: 3761.7520\n",
            "Epoch 91/100\n",
            "40/40 [==============================] - 1s 19ms/step - loss: 3634.6030 - val_loss: 3796.4644\n",
            "Epoch 92/100\n",
            "40/40 [==============================] - 1s 19ms/step - loss: 3600.7090 - val_loss: 3782.6245\n",
            "Epoch 93/100\n",
            "40/40 [==============================] - 1s 18ms/step - loss: 3608.7559 - val_loss: 3838.9458\n",
            "Epoch 94/100\n",
            "40/40 [==============================] - 1s 18ms/step - loss: 3599.1550 - val_loss: 3815.7856\n",
            "Epoch 95/100\n",
            "40/40 [==============================] - 1s 19ms/step - loss: 3606.3257 - val_loss: 3816.5835\n",
            "Epoch 96/100\n",
            "40/40 [==============================] - 1s 17ms/step - loss: 3596.7688 - val_loss: 3833.3411\n",
            "Epoch 97/100\n",
            "40/40 [==============================] - 1s 18ms/step - loss: 3611.2993 - val_loss: 3837.6323\n",
            "Epoch 98/100\n",
            "40/40 [==============================] - 1s 18ms/step - loss: 3597.7427 - val_loss: 3770.2083\n",
            "Epoch 99/100\n",
            "40/40 [==============================] - 1s 18ms/step - loss: 3595.7329 - val_loss: 3783.5884\n",
            "Epoch 100/100\n",
            "40/40 [==============================] - 1s 18ms/step - loss: 3619.2742 - val_loss: 3828.7144\n"
          ]
        }
      ],
      "source": [
        "# Fit the model\n",
        "# Fit the model and record the history\n",
        "\n",
        "\n",
        "history = model.fit(X_train_transformed, y_train, epochs=100, batch_size=32, validation_split=0.2)\n"
      ]
    },
    {
      "cell_type": "code",
      "execution_count": 36,
      "metadata": {
        "colab": {
          "base_uri": "https://localhost:8080/",
          "height": 564
        },
        "id": "uHAlWtqEKBbF",
        "outputId": "483f09b4-47a4-4d3e-fbe0-abdb32b9c889"
      },
      "outputs": [
        {
          "data": {
            "image/png": "[encoded data removed]",
            "text/plain": "<Figure size 1000x600 with 1 Axes>"
          },
          "metadata": {},
          "output_type": "display_data"
        }
      ],
      "source": [
        "import matplotlib.pyplot as plt\n",
        "\n",
        "# Plotting the training and validation loss\n",
        "plt.figure(figsize=(10, 6))\n",
        "plt.plot(history.history['loss'], label='Training Loss')\n",
        "plt.plot(history.history['val_loss'], label='Validation Loss')\n",
        "plt.title('Model Loss During Training')\n",
        "plt.ylabel('Loss')\n",
        "plt.xlabel('Epoch')\n",
        "plt.legend()\n",
        "plt.show()\n"
      ]
    },
    {
      "cell_type": "code",
      "execution_count": 37,
      "metadata": {
        "colab": {
          "base_uri": "https://localhost:8080/"
        },
        "id": "rNfojSLuKl9a",
        "outputId": "e0b43ec1-84f5-41cc-e0a6-5f58d0702818"
      },
      "outputs": [
        {
          "name": "stdout",
          "output_type": "stream",
          "text": [
            "13/13 [==============================] - 0s 7ms/step\n",
            "Mean Absolute Error (MAE): 48.915028613805774\n",
            "Mean Squared Error (MSE): 4074.862616232397\n",
            "R-squared Score: 0.8332730589757912\n"
          ]
        },
        {
          "name": "stderr",
          "output_type": "stream",
          "text": [
            "2023-11-30 15:19:05.377559: I tensorflow/core/grappler/optimizers/custom_graph_optimizer_registry.cc:114] Plugin optimizer for device_type GPU is enabled.\n"
          ]
        }
      ],
      "source": [
        "from sklearn.metrics import mean_absolute_error, mean_squared_error, r2_score\n",
        "\n",
        "\n",
        "# Make predictions on the test set\n",
        "y_pred = model.predict(X_test_transformed)\n",
        "\n",
        "# Calculate Mean Absolute Error (MAE)\n",
        "mae = mean_absolute_error(y_test, y_pred)\n",
        "print(f'Mean Absolute Error (MAE): {mae}')\n",
        "\n",
        "# Calculate Mean Squared Error (MSE)\n",
        "mse = mean_squared_error(y_test, y_pred)\n",
        "print(f'Mean Squared Error (MSE): {mse}')\n",
        "\n",
        "# Calculate R-squared Score\n",
        "r2 = r2_score(y_test, y_pred)\n",
        "print(f'R-squared Score: {r2}')"
      ]
    },
    {
      "cell_type": "code",
      "execution_count": 38,
      "metadata": {
        "id": "3-nGxa97vMIx"
      },
      "outputs": [],
      "source": [
        "import pickle\n"
      ]
    },
    {
      "cell_type": "code",
      "execution_count": 39,
      "metadata": {
        "id": "XQnc5xy2vTPT"
      },
      "outputs": [],
      "source": [
        "with open('preprocessor.pkl', 'wb') as file:\n",
        "    pickle.dump(preprocessor, file)"
      ]
    },
    {
      "cell_type": "code",
      "execution_count": 40,
      "metadata": {
        "id": "KUutTQowqzAg"
      },
      "outputs": [
        {
          "name": "stdout",
          "output_type": "stream",
          "text": [
            "INFO:tensorflow:Assets written to: model-v-0-1/assets\n"
          ]
        },
        {
          "name": "stderr",
          "output_type": "stream",
          "text": [
            "INFO:tensorflow:Assets written to: model-v-0-1/assets\n"
          ]
        }
      ],
      "source": [
        "model_save_path = 'model-v-0-1'\n",
        "model.save(model_save_path)"
      ]
    },
    {
      "cell_type": "code",
      "execution_count": 41,
      "metadata": {},
      "outputs": [],
      "source": [
        "model_save_path = 'model.keras'\n",
        "model.save(model_save_path)"
      ]
    },
    {
      "cell_type": "code",
      "execution_count": 27,
      "metadata": {},
      "outputs": [],
      "source": [
        "# model.save_weights('prelim_weights.h5')"
      ]
    },
    {
      "cell_type": "markdown",
      "metadata": {},
      "source": [
        "###Testing if our model is correct"
      ]
    },
    {
      "cell_type": "code",
      "execution_count": 50,
      "metadata": {},
      "outputs": [
        {
          "name": "stdout",
          "output_type": "stream",
          "text": [
            "[[-3.38163711  0.          0.          0.          0.          0.\n",
            "   0.          1.          0.          1.        ]]\n",
            "1/1 [==============================] - 0s 20ms/step\n"
          ]
        },
        {
          "data": {
            "text/plain": "array([[-123.54361]], dtype=float32)"
          },
          "execution_count": 50,
          "metadata": {},
          "output_type": "execute_result"
        }
      ],
      "source": [
        "input_data = pd.DataFrame([[\"Physics50\", 0, \"Low\"]], columns=['Subject', 'Problem Set', 'Priority'])\n",
        "processed_input_data = preprocessor.transform(input_data)\n",
        "print(processed_input_data)\n",
        "model.predict(processed_input_data)"
      ]
    }
  ],
  "metadata": {
    "colab": {
      "provenance": []
    },
    "kernelspec": {
      "display_name": "Python 3.8.2 64-bit",
      "metadata": {
        "interpreter": {
          "hash": "31f2aee4e71d21fbe5cf8b01ff0e069b9275f58929596ceb00d14d90e3e16cd6"
        }
      },
      "name": "python3"
    },
    "language_info": {
      "codemirror_mode": {
        "name": "ipython",
        "version": 3
      },
      "file_extension": ".py",
      "mimetype": "text/x-python",
      "name": "python",
      "nbconvert_exporter": "python",
      "pygments_lexer": "ipython3",
      "version": "3.8.2"
    }
  },
  "nbformat": 4,
  "nbformat_minor": 0
}