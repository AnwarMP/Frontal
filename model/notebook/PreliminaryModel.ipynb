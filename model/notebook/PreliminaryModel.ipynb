{
  "cells": [
    {
      "cell_type": "code",
      "execution_count": 14,
      "metadata": {
        "id": "qi65anxzFufC"
      },
      "outputs": [],
      "source": [
        "import tensorflow as tf\n",
        "from sklearn.model_selection import train_test_split\n",
        "from sklearn.preprocessing import StandardScaler, OneHotEncoder, OrdinalEncoder\n",
        "from sklearn.compose import ColumnTransformer\n",
        "from sklearn.pipeline import Pipeline\n",
        "import pandas as pd\n",
        "import numpy as np"
      ]
    },
    {
      "cell_type": "code",
      "execution_count": 15,
      "metadata": {
        "colab": {
          "base_uri": "https://localhost:8080/"
        },
        "id": "rd3cOypFj9Rr",
        "outputId": "29e77ed5-8e47-4541-9972-1d64bc5f0a2b"
      },
      "outputs": [
        {
          "name": "stdout",
          "output_type": "stream",
          "text": [
            "2.13.1\n",
            "1.24.3\n",
            "3.8.2\n"
          ]
        }
      ],
      "source": [
        "print(tf.__version__)\n",
        "print(np.__version__)\n",
        "import platform\n",
        "print(platform.python_version())\n"
      ]
    },
    {
      "cell_type": "code",
      "execution_count": 16,
      "metadata": {
        "id": "1B3QdcSqIq_x"
      },
      "outputs": [],
      "source": [
        "# Load your data\n",
        "df = pd.read_csv('/Users/anwarmujeeb/Desktop/CS171/Frontal/Frontal/model/synthetic_data/synthetic_homework_data.csv')\n",
        "\n",
        "# Define preprocessor\n",
        "preprocessor = ColumnTransformer(\n",
        "    transformers=[\n",
        "        ('num', StandardScaler(), ['Problem Set']),\n",
        "        ('cat', OneHotEncoder(), ['Subject']),\n",
        "        ('ord', OrdinalEncoder(), ['Priority'])\n",
        "    ])\n"
      ]
    },
    {
      "cell_type": "code",
      "execution_count": 17,
      "metadata": {
        "id": "gDEsiuMTJ470"
      },
      "outputs": [],
      "source": [
        "# Splitting the data\n",
        "X = df.drop('Time Required to Finish', axis=1)\n",
        "y = df['Time Required to Finish']\n",
        "X_train, X_test, y_train, y_test = train_test_split(X, y, test_size=0.2, random_state=42)\n",
        "\n",
        "# Preprocess the data\n",
        "X_train_transformed = preprocessor.fit_transform(X_train)\n",
        "X_test_transformed = preprocessor.transform(X_test)"
      ]
    },
    {
      "cell_type": "code",
      "execution_count": 18,
      "metadata": {
        "colab": {
          "base_uri": "https://localhost:8080/"
        },
        "id": "xypIKG3SyycP",
        "outputId": "bad5a61b-2126-4aac-f65f-76676d83519a"
      },
      "outputs": [
        {
          "data": {
            "text/plain": "10"
          },
          "execution_count": 18,
          "metadata": {},
          "output_type": "execute_result"
        }
      ],
      "source": [
        "X_train_transformed.shape[1]"
      ]
    },
    {
      "cell_type": "code",
      "execution_count": 19,
      "metadata": {
        "id": "x2zRopsUJ6-h"
      },
      "outputs": [],
      "source": [
        "# Neural Network Model\n",
        "model = tf.keras.models.Sequential([\n",
        "    tf.keras.layers.Dense(64, activation='relu', input_shape=[X_train_transformed.shape[1]]),\n",
        "    tf.keras.layers.Dense(32, activation='relu'),\n",
        "    tf.keras.layers.Dense(1)\n",
        "])\n",
        "\n",
        "model.compile(optimizer='adam', loss='mean_squared_error')"
      ]
    },
    {
      "cell_type": "code",
      "execution_count": 20,
      "metadata": {
        "colab": {
          "base_uri": "https://localhost:8080/"
        },
        "id": "ohXwry6vJ9XH",
        "outputId": "2a9c5426-5541-4dc1-bf25-e09d8387af56"
      },
      "outputs": [
        {
          "name": "stdout",
          "output_type": "stream",
          "text": [
            "Epoch 1/10\n"
          ]
        },
        {
          "name": "stderr",
          "output_type": "stream",
          "text": [
            "2023-11-30 14:55:59.347189: I tensorflow/core/grappler/optimizers/custom_graph_optimizer_registry.cc:114] Plugin optimizer for device_type GPU is enabled.\n",
            "2023-11-30 14:55:59.373787: E tensorflow/core/grappler/optimizers/meta_optimizer.cc:954] model_pruner failed: INVALID_ARGUMENT: Graph does not contain terminal node Adam/AssignAddVariableOp.\n"
          ]
        },
        {
          "name": "stdout",
          "output_type": "stream",
          "text": [
            "40/40 [==============================] - 1s 21ms/step - loss: 118726.5156 - val_loss: 124369.4844\n",
            "Epoch 2/10\n",
            " 1/40 [..............................] - ETA: 0s - loss: 125191.8672"
          ]
        },
        {
          "name": "stderr",
          "output_type": "stream",
          "text": [
            "2023-11-30 14:56:00.244334: I tensorflow/core/grappler/optimizers/custom_graph_optimizer_registry.cc:114] Plugin optimizer for device_type GPU is enabled.\n"
          ]
        },
        {
          "name": "stdout",
          "output_type": "stream",
          "text": [
            "40/40 [==============================] - 1s 18ms/step - loss: 114657.0625 - val_loss: 117941.2500\n",
            "Epoch 3/10\n",
            "40/40 [==============================] - 1s 18ms/step - loss: 105672.0234 - val_loss: 105092.7266\n",
            "Epoch 4/10\n",
            "40/40 [==============================] - 1s 17ms/step - loss: 90007.1875 - val_loss: 85512.0156\n",
            "Epoch 5/10\n",
            "40/40 [==============================] - 1s 17ms/step - loss: 69319.0469 - val_loss: 62550.5117\n",
            "Epoch 6/10\n",
            "40/40 [==============================] - 1s 17ms/step - loss: 48342.1211 - val_loss: 42140.2617\n",
            "Epoch 7/10\n",
            "40/40 [==============================] - 1s 17ms/step - loss: 32476.8242 - val_loss: 29013.4258\n",
            "Epoch 8/10\n",
            "40/40 [==============================] - 1s 18ms/step - loss: 23835.1230 - val_loss: 22595.1758\n",
            "Epoch 9/10\n",
            "40/40 [==============================] - 1s 18ms/step - loss: 19824.2812 - val_loss: 19424.6270\n",
            "Epoch 10/10\n",
            "40/40 [==============================] - 1s 18ms/step - loss: 17368.4297 - val_loss: 17105.6445\n"
          ]
        }
      ],
      "source": [
        "# Fit the model\n",
        "# Fit the model and record the history\n",
        "\n",
        "\n",
        "history = model.fit(X_train_transformed, y_train, epochs=10, batch_size=32, validation_split=0.2)\n"
      ]
    },
    {
      "cell_type": "code",
      "execution_count": 21,
      "metadata": {
        "colab": {
          "base_uri": "https://localhost:8080/",
          "height": 564
        },
        "id": "uHAlWtqEKBbF",
        "outputId": "483f09b4-47a4-4d3e-fbe0-abdb32b9c889"
      },
      "outputs": [
        {
          "data": {
            "image/png": "[encoded data removed]",
            "text/plain": "<Figure size 1000x600 with 1 Axes>"
          },
          "metadata": {},
          "output_type": "display_data"
        }
      ],
      "source": [
        "import matplotlib.pyplot as plt\n",
        "\n",
        "# Plotting the training and validation loss\n",
        "plt.figure(figsize=(10, 6))\n",
        "plt.plot(history.history['loss'], label='Training Loss')\n",
        "plt.plot(history.history['val_loss'], label='Validation Loss')\n",
        "plt.title('Model Loss During Training')\n",
        "plt.ylabel('Loss')\n",
        "plt.xlabel('Epoch')\n",
        "plt.legend()\n",
        "plt.show()\n"
      ]
    },
    {
      "cell_type": "code",
      "execution_count": 22,
      "metadata": {
        "colab": {
          "base_uri": "https://localhost:8080/"
        },
        "id": "rNfojSLuKl9a",
        "outputId": "e0b43ec1-84f5-41cc-e0a6-5f58d0702818"
      },
      "outputs": [
        {
          "name": "stdout",
          "output_type": "stream",
          "text": [
            "13/13 [==============================] - 0s 4ms/step\n",
            "Mean Absolute Error (MAE): 104.95906423449516\n",
            "Mean Squared Error (MSE): 17518.968034346333\n",
            "R-squared Score: 0.28319449626792614\n"
          ]
        },
        {
          "name": "stderr",
          "output_type": "stream",
          "text": [
            "2023-11-30 14:56:07.016720: I tensorflow/core/grappler/optimizers/custom_graph_optimizer_registry.cc:114] Plugin optimizer for device_type GPU is enabled.\n"
          ]
        }
      ],
      "source": [
        "from sklearn.metrics import mean_absolute_error, mean_squared_error, r2_score\n",
        "\n",
        "\n",
        "# Make predictions on the test set\n",
        "y_pred = model.predict(X_test_transformed)\n",
        "\n",
        "# Calculate Mean Absolute Error (MAE)\n",
        "mae = mean_absolute_error(y_test, y_pred)\n",
        "print(f'Mean Absolute Error (MAE): {mae}')\n",
        "\n",
        "# Calculate Mean Squared Error (MSE)\n",
        "mse = mean_squared_error(y_test, y_pred)\n",
        "print(f'Mean Squared Error (MSE): {mse}')\n",
        "\n",
        "# Calculate R-squared Score\n",
        "r2 = r2_score(y_test, y_pred)\n",
        "print(f'R-squared Score: {r2}')"
      ]
    },
    {
      "cell_type": "code",
      "execution_count": 23,
      "metadata": {
        "id": "3-nGxa97vMIx"
      },
      "outputs": [],
      "source": [
        "import pickle\n"
      ]
    },
    {
      "cell_type": "code",
      "execution_count": 24,
      "metadata": {
        "id": "XQnc5xy2vTPT"
      },
      "outputs": [],
      "source": [
        "with open('preprocessor.pkl', 'wb') as file:\n",
        "    pickle.dump(preprocessor, file)"
      ]
    },
    {
      "cell_type": "code",
      "execution_count": 25,
      "metadata": {
        "id": "KUutTQowqzAg"
      },
      "outputs": [
        {
          "name": "stdout",
          "output_type": "stream",
          "text": [
            "INFO:tensorflow:Assets written to: model-v-0-1/assets\n"
          ]
        },
        {
          "name": "stderr",
          "output_type": "stream",
          "text": [
            "INFO:tensorflow:Assets written to: model-v-0-1/assets\n"
          ]
        }
      ],
      "source": [
        "model_save_path = 'model-v-0-1'\n",
        "model.save(model_save_path)"
      ]
    },
    {
      "cell_type": "code",
      "execution_count": 26,
      "metadata": {},
      "outputs": [],
      "source": [
        "# model_save_path = 'model.keras'\n",
        "# model.save(model_save_path)"
      ]
    },
    {
      "cell_type": "code",
      "execution_count": 27,
      "metadata": {},
      "outputs": [],
      "source": [
        "# model.save_weights('prelim_weights.h5')"
      ]
    },
    {
      "cell_type": "markdown",
      "metadata": {},
      "source": [
        "###Testing if our model is correct"
      ]
    },
    {
      "cell_type": "code",
      "execution_count": 28,
      "metadata": {},
      "outputs": [
        {
          "name": "stdout",
          "output_type": "stream",
          "text": [
            "[[-1.90859293  0.          0.          0.          0.          0.\n",
            "   1.          0.          0.          0.        ]]\n",
            "1/1 [==============================] - 0s 24ms/step\n"
          ]
        },
        {
          "data": {
            "text/plain": "array([[-13.901673]], dtype=float32)"
          },
          "execution_count": 28,
          "metadata": {},
          "output_type": "execute_result"
        }
      ],
      "source": [
        "input_data = pd.DataFrame([[\"Math42\", 23, \"High\"]], columns=['Subject', 'Problem Set', 'Priority'])\n",
        "processed_input_data = preprocessor.transform(input_data)\n",
        "print(processed_input_data)\n",
        "model.predict(processed_input_data)"
      ]
    }
  ],
  "metadata": {
    "colab": {
      "provenance": []
    },
    "kernelspec": {
      "display_name": "Python 3.8.2 64-bit",
      "metadata": {
        "interpreter": {
          "hash": "31f2aee4e71d21fbe5cf8b01ff0e069b9275f58929596ceb00d14d90e3e16cd6"
        }
      },
      "name": "python3"
    },
    "language_info": {
      "codemirror_mode": {
        "name": "ipython",
        "version": 3
      },
      "file_extension": ".py",
      "mimetype": "text/x-python",
      "name": "python",
      "nbconvert_exporter": "python",
      "pygments_lexer": "ipython3",
      "version": "3.8.2"
    }
  },
  "nbformat": 4,
  "nbformat_minor": 0
}