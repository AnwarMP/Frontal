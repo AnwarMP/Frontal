{
  "nbformat": 4,
  "nbformat_minor": 0,
  "metadata": {
    "colab": {
      "provenance": []
    },
    "kernelspec": {
      "name": "python3",
      "display_name": "Python 3"
    },
    "language_info": {
      "name": "python"
    }
  },
  "cells": [
    {
      "cell_type": "code",
      "execution_count": null,
      "metadata": {
        "id": "qi65anxzFufC"
      },
      "outputs": [],
      "source": [
        "import tensorflow as tf\n",
        "from sklearn.model_selection import train_test_split\n",
        "from sklearn.preprocessing import StandardScaler, OneHotEncoder, OrdinalEncoder\n",
        "from sklearn.compose import ColumnTransformer\n",
        "from sklearn.pipeline import Pipeline\n",
        "import pandas as pd\n",
        "import numpy as np"
      ]
    },
    {
      "cell_type": "code",
      "source": [
        "print(tf.__version__)\n",
        "print(np.__version__)\n",
        "import platform\n",
        "print(platform.python_version())\n"
      ],
      "metadata": {
        "colab": {
          "base_uri": "https://localhost:8080/"
        },
        "id": "rd3cOypFj9Rr",
        "outputId": "29e77ed5-8e47-4541-9972-1d64bc5f0a2b"
      },
      "execution_count": null,
      "outputs": [
        {
          "output_type": "stream",
          "name": "stdout",
          "text": [
            "2.14.0\n",
            "1.23.5\n",
            "3.10.12\n"
          ]
        }
      ]
    },
    {
      "cell_type": "code",
      "source": [
        "# Load your data\n",
        "df = pd.read_csv('synthetic_homework_data.csv')\n",
        "\n",
        "# Define preprocessor\n",
        "preprocessor = ColumnTransformer(\n",
        "    transformers=[\n",
        "        ('num', StandardScaler(), ['Problem Set']),\n",
        "        ('cat', OneHotEncoder(), ['Subject']),\n",
        "        ('ord', OrdinalEncoder(), ['Priority'])\n",
        "    ])\n"
      ],
      "metadata": {
        "id": "1B3QdcSqIq_x"
      },
      "execution_count": null,
      "outputs": []
    },
    {
      "cell_type": "code",
      "source": [
        "# Splitting the data\n",
        "X = df.drop('Time Required to Finish', axis=1)\n",
        "y = df['Time Required to Finish']\n",
        "X_train, X_test, y_train, y_test = train_test_split(X, y, test_size=0.2, random_state=42)\n",
        "\n",
        "# Preprocess the data\n",
        "X_train_transformed = preprocessor.fit_transform(X_train)\n",
        "X_test_transformed = preprocessor.transform(X_test)"
      ],
      "metadata": {
        "id": "gDEsiuMTJ470"
      },
      "execution_count": null,
      "outputs": []
    },
    {
      "cell_type": "code",
      "source": [
        "X_train_transformed.shape[1]"
      ],
      "metadata": {
        "colab": {
          "base_uri": "https://localhost:8080/"
        },
        "id": "xypIKG3SyycP",
        "outputId": "bad5a61b-2126-4aac-f65f-76676d83519a"
      },
      "execution_count": null,
      "outputs": [
        {
          "output_type": "execute_result",
          "data": {
            "text/plain": [
              "10"
            ]
          },
          "metadata": {},
          "execution_count": 4
        }
      ]
    },
    {
      "cell_type": "code",
      "source": [
        "# Neural Network Model\n",
        "model = tf.keras.models.Sequential([\n",
        "    tf.keras.layers.Dense(64, activation='relu', input_shape=[X_train_transformed.shape[1]]),\n",
        "    tf.keras.layers.Dense(32, activation='relu'),\n",
        "    tf.keras.layers.Dense(1)\n",
        "])\n",
        "\n",
        "model.compile(optimizer='adam', loss='mean_squared_error')"
      ],
      "metadata": {
        "id": "x2zRopsUJ6-h"
      },
      "execution_count": null,
      "outputs": []
    },
    {
      "cell_type": "code",
      "source": [
        "# Fit the model\n",
        "# Fit the model and record the history\n",
        "history = model.fit(X_train_transformed, y_train, epochs=10, batch_size=32, validation_split=0.2)\n"
      ],
      "metadata": {
        "colab": {
          "base_uri": "https://localhost:8080/"
        },
        "id": "ohXwry6vJ9XH",
        "outputId": "2a9c5426-5541-4dc1-bf25-e09d8387af56"
      },
      "execution_count": null,
      "outputs": [
        {
          "output_type": "stream",
          "name": "stdout",
          "text": [
            "Epoch 1/10\n",
            "40/40 [==============================] - 1s 7ms/step - loss: 119515.3984 - val_loss: 125793.7656\n",
            "Epoch 2/10\n",
            "40/40 [==============================] - 0s 3ms/step - loss: 116431.1406 - val_loss: 120411.8281\n",
            "Epoch 3/10\n",
            "40/40 [==============================] - 0s 3ms/step - loss: 107562.5156 - val_loss: 106264.9141\n",
            "Epoch 4/10\n",
            "40/40 [==============================] - 0s 3ms/step - loss: 88315.9141 - val_loss: 80060.0078\n",
            "Epoch 5/10\n",
            "40/40 [==============================] - 0s 3ms/step - loss: 60057.8633 - val_loss: 48840.2695\n",
            "Epoch 6/10\n",
            "40/40 [==============================] - 0s 3ms/step - loss: 34064.1953 - val_loss: 26895.0996\n",
            "Epoch 7/10\n",
            "40/40 [==============================] - 0s 3ms/step - loss: 20581.9688 - val_loss: 18318.1113\n",
            "Epoch 8/10\n",
            "40/40 [==============================] - 0s 4ms/step - loss: 15708.3750 - val_loss: 14894.6670\n",
            "Epoch 9/10\n",
            "40/40 [==============================] - 0s 3ms/step - loss: 12948.1611 - val_loss: 12448.8486\n",
            "Epoch 10/10\n",
            "40/40 [==============================] - 0s 3ms/step - loss: 10714.8535 - val_loss: 10425.0762\n"
          ]
        }
      ]
    },
    {
      "cell_type": "code",
      "source": [
        "import matplotlib.pyplot as plt\n",
        "\n",
        "# Plotting the training and validation loss\n",
        "plt.figure(figsize=(10, 6))\n",
        "plt.plot(history.history['loss'], label='Training Loss')\n",
        "plt.plot(history.history['val_loss'], label='Validation Loss')\n",
        "plt.title('Model Loss During Training')\n",
        "plt.ylabel('Loss')\n",
        "plt.xlabel('Epoch')\n",
        "plt.legend()\n",
        "plt.show()\n"
      ],
      "metadata": {
        "colab": {
          "base_uri": "https://localhost:8080/",
          "height": 564
        },
        "id": "uHAlWtqEKBbF",
        "outputId": "483f09b4-47a4-4d3e-fbe0-abdb32b9c889"
      },
      "execution_count": null,
      "outputs": [
        {
          "output_type": "display_data",
          "data": {
            "text/plain": [
              "<Figure size 1000x600 with 1 Axes>"
            ],
            "image/png": "[encoded data removed]"
          },
          "metadata": {}
        }
      ]
    },
    {
      "cell_type": "code",
      "source": [
        "from sklearn.metrics import mean_absolute_error, mean_squared_error, r2_score\n",
        "\n",
        "\n",
        "# Make predictions on the test set\n",
        "y_pred = model.predict(X_test_transformed)\n",
        "\n",
        "# Calculate Mean Absolute Error (MAE)\n",
        "mae = mean_absolute_error(y_test, y_pred)\n",
        "print(f'Mean Absolute Error (MAE): {mae}')\n",
        "\n",
        "# Calculate Mean Squared Error (MSE)\n",
        "mse = mean_squared_error(y_test, y_pred)\n",
        "print(f'Mean Squared Error (MSE): {mse}')\n",
        "\n",
        "# Calculate R-squared Score\n",
        "r2 = r2_score(y_test, y_pred)\n",
        "print(f'R-squared Score: {r2}')"
      ],
      "metadata": {
        "colab": {
          "base_uri": "https://localhost:8080/"
        },
        "id": "rNfojSLuKl9a",
        "outputId": "e0b43ec1-84f5-41cc-e0a6-5f58d0702818"
      },
      "execution_count": null,
      "outputs": [
        {
          "output_type": "stream",
          "name": "stdout",
          "text": [
            "13/13 [==============================] - 0s 3ms/step\n",
            "Mean Absolute Error (MAE): 82.80925258636475\n",
            "Mean Squared Error (MSE): 10561.224142968354\n",
            "R-squared Score: 0.5678773100683818\n"
          ]
        }
      ]
    },
    {
      "cell_type": "code",
      "source": [
        "import pickle\n"
      ],
      "metadata": {
        "id": "3-nGxa97vMIx"
      },
      "execution_count": null,
      "outputs": []
    },
    {
      "cell_type": "code",
      "source": [
        "with open('model.pkl', 'wb') as file:\n",
        "    pickle.dump(model, file)\n",
        "\n",
        "with open('preprocessor.pkl', 'wb') as file:\n",
        "    pickle.dump(preprocessor, file)"
      ],
      "metadata": {
        "id": "XQnc5xy2vTPT"
      },
      "execution_count": null,
      "outputs": []
    },
    {
      "cell_type": "code",
      "source": [
        "model_save_path = 'my_model'\n",
        "model.save(model_save_path)"
      ],
      "metadata": {
        "id": "KUutTQowqzAg"
      },
      "execution_count": null,
      "outputs": []
    },
    {
      "cell_type": "code",
      "source": [
        "import joblib\n",
        "joblib.dump(model, 'model_2.pkl')\n",
        "\n"
      ],
      "metadata": {
        "colab": {
          "base_uri": "https://localhost:8080/"
        },
        "id": "PxbbREJKpPAC",
        "outputId": "9ac5e915-5544-4a07-d709-e15faadc9fa4"
      },
      "execution_count": null,
      "outputs": [
        {
          "output_type": "execute_result",
          "data": {
            "text/plain": [
              "['model_2.pkl']"
            ]
          },
          "metadata": {},
          "execution_count": 17
        }
      ]
    }
  ]
}